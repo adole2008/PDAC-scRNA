{
 "cells": [
  {
   "cell_type": "code",
   "execution_count": null,
   "id": "9c38e1ef",
   "metadata": {},
   "outputs": [],
   "source": [
    "import numpy as np\n",
    "import pandas as pd\n",
    "import scanpy as sc\n",
    "import sys\n",
    "from joblib import Parallel, delayed\n",
    "\n",
    "# lines 6 - 29 from: https://www.danli.org/2021/02/03/single-cell-data-analysis-using-scanpy/ \n",
    "sc.settings.verbosity = 3             # verbosity: errors (0), warnings (1), info (2), hints (3)\n",
    "sc.logging.print_header()\n",
    "sc.settings.set_figure_params(dpi=80, facecolor='white')\n",
    "\n",
    "adata = sc.read_10x_mtx(\n",
    "    \"datasets\", \n",
    "    var_names=\"gene_symbols\",\n",
    "    cache=True\n",
    ")\n",
    "\n",
    "adata.var_names_make_unique()\n",
    "\n",
    "#filter 20 highest expressed genes\n",
    "#sc.pl.highest_expr_genes(adata, n_top=20, )\n",
    "\n",
    "#filtering out the cells with low gene expression/genes that don't show up in many cells\n",
    "sc.pp.filter_cells(adata, min_genes=200)\n",
    "sc.pp.filter_genes(adata, min_cells=3)\n",
    "\n",
    "adata_filter1 = adata.copy()\n",
    "adata_filter1.write('adata_first_filter.h5ad')\n",
    "\n",
    "#annotate mitochondrial genes as 'mt' and calculate qc metrics based on \n",
    "adata_filter1.var['mt'] = adata_filter1.var_names.str.startswith('MT-')  # annotate the group of mitochondrial genes as 'mt'\n",
    "adata_filter1.var['ribo'] = adata_filter1.var_names.str.startswith((\"RPS\", \"RPL\"))\n",
    "adata_filter1.var['hb'] = adata_filter1.var_names.str.startswith(\"^HB[^(P)]\") #regular expression that chooses all leters after HB besides the capital letter P\n",
    "#regex is used because pseudogenes have names like HBP1, HBP2, etc \n",
    "\n",
    "sc.pp.calculate_qc_metrics(adata_filter1, qc_vars=[\"mt\", \"ribo\", \"hb\"], percent_top=None, log1p=False, inplace=True)"
   ]
  },
  {
   "cell_type": "code",
   "execution_count": null,
   "id": "01c27096",
   "metadata": {},
   "outputs": [],
   "source": [
    "#SKIP\n",
    "sc.pl.violin(adata_filter1, ['n_genes_by_counts', 'total_counts', 'pct_counts_mt'],\n",
    "             jitter=0.4, multi_panel=True)\n",
    "\n",
    "sc.pl.scatter(adata_filter1, \"total_counts\", \"n_genes_by_counts\", color=\"pct_counts_mt\")\n",
    "sc.pl.scatter(adata_filter1, 'total_counts', 'pct_counts_mt')"
   ]
  },
  {
   "cell_type": "code",
   "execution_count": null,
   "id": "b287ab8b",
   "metadata": {},
   "outputs": [],
   "source": [
    "adata_cp1 = adata_filter1[\n",
    "    (adata_filter1.obs['pct_counts_mt'] < 10) &\n",
    "    (adata_filter1.obs['pct_counts_ribo'] < 20) &\n",
    "    (adata_filter1.obs['pct_counts_hb'] < 5),\n",
    "    :\n",
    "].copy()"
   ]
  },
  {
   "cell_type": "code",
   "execution_count": null,
   "id": "0ae78611",
   "metadata": {},
   "outputs": [],
   "source": [
    "#SKIP\n",
    "sc.pl.violin(adata_cp1, ['pct_counts_mt', 'pct_counts_ribo', 'pct_counts_hb'], jitter=0.4, multi_panel=True)"
   ]
  },
  {
   "cell_type": "code",
   "execution_count": null,
   "id": "2e8d913a",
   "metadata": {},
   "outputs": [],
   "source": [
    "adata_cp2 = adata_cp1.copy()\n",
    "adata_cp2.obs[\"doublet_score\"] = np.nan\n",
    "adata_cp2.obs[\"predicted_doublet\"] = np.nan\n",
    "\n",
    "sample_indices = np.arange(adata_cp1.n_obs)\n",
    "\n",
    "chunk_size = 20000\n",
    "num_chunks = adata_cp2.shape[0] // chunk_size\n",
    "try:\n",
    "    for i in range(num_chunks+1):\n",
    "        start = i * chunk_size\n",
    "        end = min((i + 1) * chunk_size, adata_cp2.shape[0])\n",
    "        adata_subset = adata_cp2[start:end].copy()\n",
    "        sc.pp.scrublet(adata_subset)\n",
    "        adata_cp2.obs.loc[adata_subset.obs.index, \"doublet_score\"] = adata_subset.obs[\"doublet_score\"]\n",
    "        adata_cp2.obs.loc[adata_subset.obs.index, \"predicted_doublet\"] = adata_subset.obs[\"predicted_doublet\"]\n",
    "        print(f\"Scrublet round {i} complete\")\n",
    "        \n",
    "except MemoryError as e:\n",
    "    print(f\"Not enough memory\")\n",
    "    sys.exit(1)"
   ]
  },
  {
   "cell_type": "code",
   "execution_count": null,
   "id": "7be27328",
   "metadata": {},
   "outputs": [],
   "source": [
    "adata_cp3 = adata_cp2.copy()\n",
    "sc.pl.violin(adata_cp2, 'doublet_score')"
   ]
  },
  {
   "cell_type": "code",
   "execution_count": null,
   "id": "2debbaea",
   "metadata": {},
   "outputs": [],
   "source": [
    "threshold = 0.18\n",
    "adata_singlets = adata_cp3[adata_cp3.obs['doublet_score'] < threshold, :].copy()"
   ]
  },
  {
   "cell_type": "code",
   "execution_count": null,
   "id": "a99533e5",
   "metadata": {},
   "outputs": [],
   "source": [
    "# Saving count data\n",
    "adata_singlets.layers[\"counts\"] = adata_singlets.X.copy()\n",
    "# Normalizing to median total counts\n",
    "sc.pp.normalize_total(adata_singlets)\n",
    "# Logarithmize the data\n",
    "sc.pp.log1p(adata_singlets)"
   ]
  },
  {
   "cell_type": "code",
   "execution_count": null,
   "id": "b334a161",
   "metadata": {},
   "outputs": [],
   "source": []
  }
 ],
 "metadata": {
  "kernelspec": {
   "display_name": ".venv (3.9.6)",
   "language": "python",
   "name": "python3"
  },
  "language_info": {
   "codemirror_mode": {
    "name": "ipython",
    "version": 3
   },
   "file_extension": ".py",
   "mimetype": "text/x-python",
   "name": "python",
   "nbconvert_exporter": "python",
   "pygments_lexer": "ipython3",
   "version": "3.9.6"
  }
 },
 "nbformat": 4,
 "nbformat_minor": 5
}
