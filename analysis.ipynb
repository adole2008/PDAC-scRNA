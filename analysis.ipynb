{
 "cells": [
  {
   "cell_type": "code",
   "execution_count": null,
   "id": "9c38e1ef",
   "metadata": {},
   "outputs": [],
   "source": [
    "import numpy as np\n",
    "import pandas as pd\n",
    "import scanpy as sc\n",
    "import sys\n",
    "from joblib import Parallel, delayed\n",
    "sc.settings.verbosity = 3 # verbosity: errors (0), warnings (1), info (2), hints\n",
    "sc.logging.print_header()\n",
    "sc.settings.set_figure_params(dpi=80, facecolor='white')\n",
    "adata = sc.read_10x_mtx(\n",
    "\"datasets\",\n",
    "var_names=\"gene_symbols\",\n",
    "cache=True\n",
    ")\n",
    "adata.var_names_make_unique()\n",
    "#Adding patient column to the adata:\n",
    "meta = pd.read_csv(\"datasets/metadata.csv.gz\")\n",
    "type(meta)\n",
    "meta.columns = [\"cell_id\", \"tissue\", \"patient\", \"cell-type\"]\n",
    "patient_list = meta[\"cell_id\"].values.tolist()\n",
    "patient_14_df = meta[meta[\"patient\"] == \"PA14\"]\n",
    "patient_14_transcripts = patient_14_df[\"cell_id\"].values.tolist()\n",
    "# for t in patient_14_transcripts:\n",
    "# print(t)\n",
    "patient_04_df = meta[meta[\"patient\"] == \"PA04\"]\n",
    "patient_04_transcripts = patient_04_df[\"cell_id\"].values.tolist()\n",
    "# for t in patient_04_transcripts:\n",
    "# print(t)\n",
    "adata.obs[\"patient\"] = \"ignore\"\n",
    "adata.obs.loc[patient_04_transcripts, \"patient\"] = \"PA04\"\n",
    "adata.obs.loc[patient_14_transcripts, \"patient\"] = \"PA14\""
   ]
  },
  {
   "cell_type": "code",
   "execution_count": null,
   "id": "01c27096",
   "metadata": {},
   "outputs": [],
   "source": [
    "# print(adata.obs)\n",
    "# print(adata.obs_names)\n",
    "adata2 = adata[adata.obs[\"patient\"].isin([\"PA04\", \"PA14\"])].copy()\n",
    "print(adata2.obs)"
   ]
  },
  {
   "cell_type": "code",
   "execution_count": null,
   "id": "b287ab8b",
   "metadata": {},
   "outputs": [],
   "source": [
    "#filter 20 highest expressed genes\n",
    "#sc.pl.highest_expr_genes(adata, n_top=20, )\n",
    "#filtering out the cells with low gene expression/genes that don't show up in many cells\n",
    "adata3 = adata2.copy()\n",
    "sc.pp.filter_cells(adata3, min_genes=200)\n",
    "sc.pp.filter_genes(adata3, min_cells=3)\n",
    "#annotate mitochondrial, ribosomal, and hemoglobin genes\n",
    "adata3.var['mt'] = adata3.var_names.str.startswith('MT-')\n",
    "adata3.var['ribo'] = adata3.var_names.str.startswith((\"RPS\", \"RPL\"))\n",
    "adata3.var['hb'] = adata3.var_names.str.startswith(\"^HB[^(P)]\")\n",
    "sc.pp.calculate_qc_metrics(adata3, qc_vars=[\"mt\", \"ribo\", \"hb\"])"
   ]
  },
  {
   "cell_type": "code",
   "execution_count": null,
   "id": "0ae78611",
   "metadata": {},
   "outputs": [],
   "source": [
    "adata4 = adata3[\n",
    "(adata3.obs['pct_counts_mt'] < 10) &\n",
    "(adata3.obs['pct_counts_ribo'] < 20) &\n",
    "(adata3.obs['pct_counts_hb'] < 5),\n",
    ":\n",
    "].copy()"
   ]
  },
  {
   "cell_type": "code",
   "execution_count": null,
   "id": "2e8d913a",
   "metadata": {},
   "outputs": [],
   "source": [
    "#PLOT\n",
    "sc.pl.violin(adata4, ['pct_counts_mt', 'pct_counts_ribo', 'pct_counts_hb'])"
   ]
  },
  {
   "cell_type": "code",
   "execution_count": null,
   "id": "7be27328",
   "metadata": {},
   "outputs": [],
   "source": [
    "# Doublet detection and removal\n",
    "adata5 = adata4.copy()\n",
    "sc.pp.scrublet(adata5)"
   ]
  },
  {
   "cell_type": "code",
   "execution_count": null,
   "id": "2debbaea",
   "metadata": {},
   "outputs": [],
   "source": [
    "print(adata5.obs[\"predicted_doublet\"])\n",
    "adata6 = adata5[adata5.obs[\"predicted_doublet\"] == False].copy()"
   ]
  },
  {
   "cell_type": "code",
   "execution_count": null,
   "id": "a99533e5",
   "metadata": {},
   "outputs": [],
   "source": [
    "# Saving count data\n",
    "adata6.layers[\"counts\"] = adata6.X.copy()\n",
    "# Normalizing to median total counts\n",
    "sc.pp.normalize_total(adata6)\n",
    "# Logarithmize the data\n",
    "sc.pp.log1p(adata6)"
   ]
  },
  {
   "cell_type": "code",
   "execution_count": null,
   "id": "b334a161",
   "metadata": {},
   "outputs": [],
   "source": [
    "#cell-typist annotation by cell-type"
   ]
  }
 ],
 "metadata": {
  "kernelspec": {
   "display_name": ".venv (3.9.6)",
   "language": "python",
   "name": "python3"
  },
  "language_info": {
   "codemirror_mode": {
    "name": "ipython",
    "version": 3
   },
   "file_extension": ".py",
   "mimetype": "text/x-python",
   "name": "python",
   "nbconvert_exporter": "python",
   "pygments_lexer": "ipython3",
   "version": "3.9.6"
  }
 },
 "nbformat": 4,
 "nbformat_minor": 5
}
